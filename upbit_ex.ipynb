{
 "cells": [
  {
   "cell_type": "markdown",
   "id": "13abcf82-d76e-4c68-978b-4a26a56f4b17",
   "metadata": {
    "tags": []
   },
   "source": [
    "### 노트북 기본셋팅"
   ]
  },
  {
   "cell_type": "code",
   "execution_count": null,
   "id": "a39e59fa-f327-434e-bf0d-f143e27299a4",
   "metadata": {},
   "outputs": [],
   "source": [
    "import os\n",
    "Join = os.path.join\n",
    "VAR_DIR  = Join(os.getcwd(), \"var\")\n",
    "\n",
    "import datetime\n",
    "import pandas as pd\n",
    "import numpy as np\n",
    "import matplotlib.pyplot as plt\n",
    "\n",
    "np.set_printoptions(suppress=True)\n",
    "\n",
    "pd.set_option('display.notebook_repr_html', False)\n",
    "pd.set_option('display.max_columns', 8)\n",
    "pd.set_option('display.max_rows', 10)\n",
    "pd.set_option('display.width', 80)\n",
    "\n",
    "import matplotlib.pyplot as plt\n",
    "%matplotlib inline\n",
    "\n",
    "plt.rcParams['font.family'] = 'NanumBarunGothic'\n",
    "plt.rcParams['figure.figsize'] = (14,5)\n",
    "plt.rcParams['lines.linewidth'] = 2\n",
    "plt.rcParams['lines.color'] = 'r'\n",
    "plt.rcParams['axes.grid'] = True"
   ]
  },
  {
   "cell_type": "code",
   "execution_count": null,
   "id": "05fa27d1-474a-41ac-ae0d-b1cfb6400d9e",
   "metadata": {
    "tags": []
   },
   "outputs": [],
   "source": [
    "from env import UPBIT_ACCESS, UPBIT_SECRET"
   ]
  },
  {
   "cell_type": "markdown",
   "id": "2b137509-9a35-4a50-90f7-70b321bde0a2",
   "metadata": {
    "tags": []
   },
   "source": [
    "## 전체 계좌 조회"
   ]
  },
  {
   "cell_type": "code",
   "execution_count": null,
   "id": "d1da1ed3-37fd-454c-b452-655463468a49",
   "metadata": {
    "tags": []
   },
   "outputs": [],
   "source": [
    "import jwt\n",
    "import hashlib\n",
    "import os\n",
    "import requests\n",
    "import uuid\n",
    "from urllib.parse import urlencode, unquote\n",
    "\n",
    "server_url = 'https://api.upbit.com'\n",
    "\n",
    "payload = {\n",
    "    'access_key': UPBIT_ACCESS,\n",
    "    'nonce': str(uuid.uuid4()),\n",
    "}\n",
    "\n",
    "jwt_token = jwt.encode(payload, UPBIT_SECRET)\n",
    "authorization = 'Bearer {}'.format(jwt_token)\n",
    "headers = {\n",
    "  'Authorization': authorization,\n",
    "}\n",
    "\n",
    "res = requests.get(server_url + '/v1/accounts', headers=headers)\n",
    "data = res.json()\n",
    "\n",
    "for row in data:\n",
    "    currency = row.get('currency')\n",
    "    balance  = row.get('balance')\n",
    "    locked   = row.get('locked')\n",
    "    \n",
    "    if float(balance) == 0:\n",
    "        print(currency, locked)\n",
    "\n",
    "    elif float(balance) > 0.0001:\n",
    "        print(currency, balance)"
   ]
  },
  {
   "cell_type": "markdown",
   "id": "1642c649-5d3b-45f4-a6d2-b11f791e0d3d",
   "metadata": {
    "tags": []
   },
   "source": [
    "### 업비트 시세 종목 조회"
   ]
  },
  {
   "cell_type": "code",
   "execution_count": null,
   "id": "63aa0556-b19b-422a-b90f-138bb95fa0dc",
   "metadata": {
    "tags": []
   },
   "outputs": [],
   "source": [
    "import requests\n",
    "\n",
    "url = \"https://api.upbit.com/v1/market/all?isDetails=false\"\n",
    "\n",
    "headers = {\"accept\": \"application/json\"}\n",
    "\n",
    "response = requests.get(url, headers=headers)\n",
    "\n",
    "for row in response.json():\n",
    "    korean_name = row.get('korean_name')\n",
    "    market = row.get('market')\n",
    "    \n",
    "    print(market, korean_name)"
   ]
  },
  {
   "cell_type": "markdown",
   "id": "bd5499bc-8cd4-4c87-ba42-80ce2df61a54",
   "metadata": {},
   "source": [
    "### 업비트 캔들 조회"
   ]
  },
  {
   "cell_type": "code",
   "execution_count": null,
   "id": "f33b24d6-f226-4694-828f-b8a9d3934403",
   "metadata": {},
   "outputs": [],
   "source": [
    "import requests\n",
    "\n",
    "url = \"https://api.upbit.com/v1/candles/minutes/30?market=KRW-BTC&count=5&to=2022-01-01T02:00:00\"\n",
    "\n",
    "headers = {\"accept\": \"application/json\"}\n",
    "\n",
    "response = requests.get(url, headers=headers)\n",
    "\n",
    "for row in response.json():\n",
    "    UTC     = row.get('candle_date_time_utc')\n",
    "    Open    = row.get('opening_price')\n",
    "    High    = row.get('high_price')\n",
    "    Low     = row.get('low_price')\n",
    "    Close   = row.get('trade_price')\n",
    "    \n",
    "    print(UTC, Open, High, Low, Close)"
   ]
  }
 ],
 "metadata": {
  "kernelspec": {
   "display_name": "Python 3 (ipykernel)",
   "language": "python",
   "name": "python3"
  },
  "language_info": {
   "codemirror_mode": {
    "name": "ipython",
    "version": 3
   },
   "file_extension": ".py",
   "mimetype": "text/x-python",
   "name": "python",
   "nbconvert_exporter": "python",
   "pygments_lexer": "ipython3",
   "version": "3.7.8"
  }
 },
 "nbformat": 4,
 "nbformat_minor": 5
}
